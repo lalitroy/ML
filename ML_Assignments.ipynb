{
  "nbformat": 4,
  "nbformat_minor": 0,
  "metadata": {
    "colab": {
      "name": "ML Assignments.ipynb",
      "provenance": []
    },
    "kernelspec": {
      "name": "python3",
      "display_name": "Python 3"
    },
    "language_info": {
      "name": "python"
    }
  },
  "cells": [
    {
      "cell_type": "markdown",
      "source": [
        "The task is to determine weight based on height."
      ],
      "metadata": {
        "id": "lMqszRo_sMrM"
      }
    },
    {
      "cell_type": "markdown",
      "source": [
        "#### Step 1: Check linearity of the spread\n",
        "\n",
        "It is important to verify the linearity of the data before creating the model. To do so, I would like to do a scatter plot of the raw data"
      ],
      "metadata": {
        "id": "Wr5bH9On8L3g"
      }
    },
    {
      "cell_type": "code",
      "source": [
        "# Import important libraries that we will need throughout this program\n",
        "import pandas as pd                                       # for dataframe\n",
        "import matplotlib.pyplot as plt                           # for plotting\n",
        "from sklearn.model_selection import train_test_split      # for splitting the dataset into training and testing\n",
        "from sklearn.linear_model import LinearRegression         # for working on the model"
      ],
      "metadata": {
        "id": "wms2hPxs8hLP"
      },
      "execution_count": null,
      "outputs": []
    },
    {
      "cell_type": "markdown",
      "source": [
        "**Important: Training independent feature data has to be a 2D array in the linear regression model**"
      ],
      "metadata": {
        "id": "ISuUwKry9FKX"
      }
    },
    {
      "cell_type": "code",
      "execution_count": null,
      "metadata": {
        "id": "b4-mkmFMsIOQ",
        "colab": {
          "base_uri": "https://localhost:8080/",
          "height": 296
        },
        "outputId": "ecab7c0e-07b8-4a85-c4f1-32b106d03e35"
      },
      "outputs": [
        {
          "output_type": "execute_result",
          "data": {
            "text/plain": [
              "<matplotlib.collections.PathCollection at 0x7fab22fc3490>"
            ]
          },
          "metadata": {},
          "execution_count": 43
        },
        {
          "output_type": "display_data",
          "data": {
            "text/plain": [
              "<Figure size 432x288 with 1 Axes>"
            ],
            "image/png": "[encoded data removed]"
          },
          "metadata": {
            "needs_background": "light"
          }
        }
      ],
      "source": [
        "# read the raw data from github directly\n",
        "df = pd.read_csv('https://raw.githubusercontent.com/lalit13roy/ML/main/simpleLinearRegression_Height-Weight-Data.csv')\n",
        "\n",
        "# define independent feature\n",
        "x = df[['Height']]\n",
        "\n",
        "# define dependent feature\n",
        "y = df['Weight']\n",
        "\n",
        "# Scatter plot to visualize the spread of the data and check linearity\n",
        "# add horizontal axis title\n",
        "plt.xlabel('Height (inch)')\n",
        "\n",
        "# add horizontal axis title\n",
        "plt.ylabel('Weight (lbs)')\n",
        "\n",
        "# plot\n",
        "plt.scatter(x,y,marker='.',color='red')"
      ]
    },
    {
      "cell_type": "markdown",
      "source": [
        "It is obvious that the linearity exists."
      ],
      "metadata": {
        "id": "C5NmlqbJDBW9"
      }
    },
    {
      "cell_type": "markdown",
      "source": [
        "#### Step 2: Create a linear regression model and train it\n",
        "\n",
        "* Divide the whole dataset into a training (70%) and a testing (30%) sets by using ```train_test_split()``` from ```sklearn.model_selection``` module "
      ],
      "metadata": {
        "id": "wDUYQVxdDNMr"
      }
    },
    {
      "cell_type": "code",
      "source": [
        "# split the data\n",
        "xtrain, xtest, ytrain, ytest = train_test_split(x,y,test_size=0.3)\n"
      ],
      "metadata": {
        "id": "84nqZn_qEMUe"
      },
      "execution_count": null,
      "outputs": []
    },
    {
      "cell_type": "markdown",
      "source": [
        "* Create the linear regression model object"
      ],
      "metadata": {
        "id": "OtmqcNamEcl7"
      }
    },
    {
      "cell_type": "code",
      "source": [
        "reg_model = LinearRegression()"
      ],
      "metadata": {
        "id": "scdUuVslEoOq"
      },
      "execution_count": null,
      "outputs": []
    },
    {
      "cell_type": "markdown",
      "source": [
        "* Train the model"
      ],
      "metadata": {
        "id": "5oSMRbBlFEWG"
      }
    },
    {
      "cell_type": "code",
      "source": [
        "reg_model.fit(xtrain, ytrain)"
      ],
      "metadata": {
        "colab": {
          "base_uri": "https://localhost:8080/"
        },
        "id": "CPVvY1mDFGP5",
        "outputId": "19680eba-2bc9-4913-f8e8-132c8f496463"
      },
      "execution_count": null,
      "outputs": [
        {
          "output_type": "execute_result",
          "data": {
            "text/plain": [
              "LinearRegression()"
            ]
          },
          "metadata": {},
          "execution_count": 46
        }
      ]
    },
    {
      "cell_type": "markdown",
      "source": [
        "#### Step-3: Generate the outputs from the model and compare"
      ],
      "metadata": {
        "id": "vywzjjJuFNZ1"
      }
    },
    {
      "cell_type": "markdown",
      "source": [
        "* Find out the slope and intercept of the linear model"
      ],
      "metadata": {
        "id": "bKMv5IL6FVth"
      }
    },
    {
      "cell_type": "code",
      "source": [
        "# slope\n",
        "m = reg_model.coef_\n",
        "\n",
        "# intercept\n",
        "c = reg_model.intercept_"
      ],
      "metadata": {
        "id": "PPKnsS1IFLCW"
      },
      "execution_count": null,
      "outputs": []
    },
    {
      "cell_type": "markdown",
      "source": [
        "* Add a column of predictions to the original dataset"
      ],
      "metadata": {
        "id": "Ogy2yb1SGRfy"
      }
    },
    {
      "cell_type": "code",
      "source": [
        "df['Weight_predicted'] = reg_model.predict(x)"
      ],
      "metadata": {
        "id": "fFn9gVaIHGVm"
      },
      "execution_count": null,
      "outputs": []
    },
    {
      "cell_type": "markdown",
      "source": [
        "#### Step 4: Plot the raw and predictions together to visualize the comparison"
      ],
      "metadata": {
        "id": "7xHHwCPqHXWx"
      }
    },
    {
      "cell_type": "code",
      "source": [
        "# set axis titles\n",
        "plt.xlabel('Height (inch)')\n",
        "plt.ylabel('Weight (lbs)')\n",
        "\n",
        "# plot raw data\n",
        "plt.scatter(x,y,color='red',marker='.', label='Raw')\n",
        "\n",
        "# plot predictions\n",
        "plt.scatter(x, df['Weight_predicted'],color='black', label='Model')\n",
        "\n",
        "# display legends\n",
        "plt.legend()"
      ],
      "metadata": {
        "id": "v9XO4JuGHfGk",
        "outputId": "58d5bcc3-cbbc-4531-d667-d736145ea107",
        "colab": {
          "base_uri": "https://localhost:8080/",
          "height": 296
        }
      },
      "execution_count": null,
      "outputs": [
        {
          "output_type": "execute_result",
          "data": {
            "text/plain": [
              "<matplotlib.legend.Legend at 0x7fab2311a990>"
            ]
          },
          "metadata": {},
          "execution_count": 49
        },
        {
          "output_type": "display_data",
          "data": {
            "text/plain": [
              "<Figure size 432x288 with 1 Axes>"
            ],
            "image/png": "[encoded data removed]"
          },
          "metadata": {
            "needs_background": "light"
          }
        }
      ]
    }
  ]
}