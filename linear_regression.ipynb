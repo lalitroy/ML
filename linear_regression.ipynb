{
  "nbformat": 4,
  "nbformat_minor": 0,
  "metadata": {
    "colab": {
      "name": "ML Assignments.ipynb",
      "provenance": [],
      "authorship_tag": "ABX9TyNnWfYIwHUCyTYYc9cerck7",
      "include_colab_link": true
    },
    "kernelspec": {
      "name": "python3",
      "display_name": "Python 3"
    },
    "language_info": {
      "name": "python"
    }
  },
  "cells": [
    {
      "cell_type": "markdown",
      "metadata": {
        "id": "view-in-github",
        "colab_type": "text"
      },
      "source": [
        "<a href=\"https://colab.research.google.com/github/lalitroy/ML/blob/main/linear_regression.ipynb\" target=\"_parent\"><img src=\"https://colab.research.google.com/assets/colab-badge.svg\" alt=\"Open In Colab\"/></a>"
      ]
    },
    {
      "cell_type": "markdown",
      "source": [
        "The task is to determine weight based on height."
      ],
      "metadata": {
        "id": "lMqszRo_sMrM"
      }
    },
    {
      "cell_type": "markdown",
      "source": [
        "#### Step 1: Check linearity of the spread\n",
        "\n",
        "It is important to verify the linearity of the data before creating the model. To do so, I would like to do a scatter plot of the raw data"
      ],
      "metadata": {
        "id": "Wr5bH9On8L3g"
      }
    },
    {
      "cell_type": "code",
      "source": [
        "# Import important libraries that we will need throughout this program\n",
        "import pandas as pd                                       # for dataframe\n",
        "import matplotlib.pyplot as plt                           # for plotting\n",
        "from sklearn.model_selection import train_test_split      # for splitting the dataset into training and testing\n",
        "from sklearn.linear_model import LinearRegression         # for working on the model"
      ],
      "metadata": {
        "id": "wms2hPxs8hLP"
      },
      "execution_count": 1,
      "outputs": []
    },
    {
      "cell_type": "markdown",
      "source": [
        "**Important: Training independent feature data has to be a 2D array in the linear regression model**"
      ],
      "metadata": {
        "id": "ISuUwKry9FKX"
      }
    },
    {
      "cell_type": "code",
      "execution_count": 2,
      "metadata": {
        "id": "b4-mkmFMsIOQ",
        "colab": {
          "base_uri": "https://localhost:8080/",
          "height": 296
        },
        "outputId": "09896a7a-a43d-487b-bc7d-86ec3588ec3c"
      },
      "outputs": [
        {
          "output_type": "execute_result",
          "data": {
            "text/plain": [
              "<matplotlib.collections.PathCollection at 0x7f60e4c483d0>"
            ]
          },
          "metadata": {},
          "execution_count": 2
        },
        {
          "output_type": "display_data",
          "data": {
            "text/plain": [
              "<Figure size 432x288 with 1 Axes>"
            ],
            "image/png": "[encoded data removed]"
          },
          "metadata": {
            "needs_background": "light"
          }
        }
      ],
      "source": [
        "# read the raw data from github directly\n",
        "df = pd.read_csv('https://raw.githubusercontent.com/lalitroy/ML/main/Height-Weight-Data.csv')\n",
        "\n",
        "# define independent feature\n",
        "x = df[['Height']]\n",
        "\n",
        "# define dependent feature\n",
        "y = df['Weight']\n",
        "\n",
        "# Scatter plot to visualize the spread of the data and check linearity\n",
        "# add horizontal axis title\n",
        "plt.xlabel('Height (inch)')\n",
        "\n",
        "# add horizontal axis title\n",
        "plt.ylabel('Weight (lbs)')\n",
        "\n",
        "# plot\n",
        "plt.scatter(x,y,marker='.',color='red')"
      ]
    },
    {
      "cell_type": "markdown",
      "source": [
        "It is obvious that the linearity exists."
      ],
      "metadata": {
        "id": "C5NmlqbJDBW9"
      }
    },
    {
      "cell_type": "markdown",
      "source": [
        "#### Step 2: Create a linear regression model and train it\n",
        "\n",
        "* Divide the whole dataset into a training (70%) and a testing (30%) sets by using ```train_test_split()``` from ```sklearn.model_selection``` module "
      ],
      "metadata": {
        "id": "wDUYQVxdDNMr"
      }
    },
    {
      "cell_type": "code",
      "source": [
        "# split the data\n",
        "xtrain, xtest, ytrain, ytest = train_test_split(x,y,test_size=0.3)\n"
      ],
      "metadata": {
        "id": "84nqZn_qEMUe"
      },
      "execution_count": 3,
      "outputs": []
    },
    {
      "cell_type": "markdown",
      "source": [
        "* Create the linear regression model object"
      ],
      "metadata": {
        "id": "OtmqcNamEcl7"
      }
    },
    {
      "cell_type": "code",
      "source": [
        "reg_model = LinearRegression()"
      ],
      "metadata": {
        "id": "scdUuVslEoOq"
      },
      "execution_count": 4,
      "outputs": []
    },
    {
      "cell_type": "markdown",
      "source": [
        "* Train the model"
      ],
      "metadata": {
        "id": "5oSMRbBlFEWG"
      }
    },
    {
      "cell_type": "code",
      "source": [
        "reg_model.fit(xtrain, ytrain)"
      ],
      "metadata": {
        "colab": {
          "base_uri": "https://localhost:8080/"
        },
        "id": "CPVvY1mDFGP5",
        "outputId": "3219d6c8-bfd8-4819-f7dd-42dfa10a193e"
      },
      "execution_count": 5,
      "outputs": [
        {
          "output_type": "execute_result",
          "data": {
            "text/plain": [
              "LinearRegression()"
            ]
          },
          "metadata": {},
          "execution_count": 5
        }
      ]
    },
    {
      "cell_type": "markdown",
      "source": [
        "#### Step-3: Generate the outputs from the model and compare"
      ],
      "metadata": {
        "id": "vywzjjJuFNZ1"
      }
    },
    {
      "cell_type": "markdown",
      "source": [
        "* Find out the slope and intercept of the linear model"
      ],
      "metadata": {
        "id": "bKMv5IL6FVth"
      }
    },
    {
      "cell_type": "code",
      "source": [
        "# slope\n",
        "m = reg_model.coef_\n",
        "\n",
        "# intercept\n",
        "c = reg_model.intercept_"
      ],
      "metadata": {
        "id": "PPKnsS1IFLCW"
      },
      "execution_count": 6,
      "outputs": []
    },
    {
      "cell_type": "markdown",
      "source": [
        "* Add a column of predictions to the original dataset"
      ],
      "metadata": {
        "id": "Ogy2yb1SGRfy"
      }
    },
    {
      "cell_type": "code",
      "source": [
        "df['Weight_predicted'] = reg_model.predict(x)"
      ],
      "metadata": {
        "id": "fFn9gVaIHGVm"
      },
      "execution_count": 7,
      "outputs": []
    },
    {
      "cell_type": "markdown",
      "source": [
        "#### Step 4: Plot the raw and predictions together to visualize the comparison"
      ],
      "metadata": {
        "id": "7xHHwCPqHXWx"
      }
    },
    {
      "cell_type": "code",
      "source": [
        "# set axis titles\n",
        "plt.xlabel('Height (inch)')\n",
        "plt.ylabel('Weight (lbs)')\n",
        "\n",
        "# plot raw data\n",
        "plt.scatter(x,y,color='red',marker='.', label='Raw')\n",
        "\n",
        "# plot predictions\n",
        "plt.scatter(x, df['Weight_predicted'],color='black', label='Model')\n",
        "\n",
        "# display legends\n",
        "plt.legend()"
      ],
      "metadata": {
        "id": "v9XO4JuGHfGk",
        "outputId": "9e3bbe1e-fb56-4855-9158-82edab154538",
        "colab": {
          "base_uri": "https://localhost:8080/",
          "height": 296
        }
      },
      "execution_count": 8,
      "outputs": [
        {
          "output_type": "execute_result",
          "data": {
            "text/plain": [
              "<matplotlib.legend.Legend at 0x7f60e276a0d0>"
            ]
          },
          "metadata": {},
          "execution_count": 8
        },
        {
          "output_type": "display_data",
          "data": {
            "text/plain": [
              "<Figure size 432x288 with 1 Axes>"
            ],
            "image/png": "[encoded data removed]"
          },
          "metadata": {
            "needs_background": "light"
          }
        }
      ]
    }
  ]
}